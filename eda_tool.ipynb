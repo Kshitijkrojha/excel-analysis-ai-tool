{
 "cells": [
  {
   "cell_type": "code",
   "execution_count": 2,
   "id": "e6339c34",
   "metadata": {},
   "outputs": [
    {
     "name": "stdout",
     "output_type": "stream",
     "text": [
      "Shape: (100, 6)\n",
      "\n",
      "Data types:\n",
      " Date          datetime64[ns]\n",
      "Region                object\n",
      "Product               object\n",
      "Sales                float64\n",
      "Units Sold             int64\n",
      "Rep                   object\n",
      "dtype: object\n",
      "\n",
      "Missing values:\n",
      " Date          0\n",
      "Region        0\n",
      "Product       0\n",
      "Sales         0\n",
      "Units Sold    0\n",
      "Rep           0\n",
      "dtype: int64\n",
      "Summary saved to outputs/reports/summary_stats.xlsx\n",
      "KPIs saved to outputs/reports/kpis.xlsx\n"
     ]
    },
    {
     "name": "stderr",
     "output_type": "stream",
     "text": [
      "C:\\Users\\aakan\\AppData\\Local\\Temp\\ipykernel_16644\\3413248364.py:43: FutureWarning: \n",
      "\n",
      "The `ci` parameter is deprecated. Use `errorbar=None` for the same effect.\n",
      "\n",
      "  sns.barplot(x='Region', y='Sales', data=df, estimator=sum, ci=None)\n"
     ]
    },
    {
     "name": "stdout",
     "output_type": "stream",
     "text": [
      "Charts saved to outputs/charts/\n"
     ]
    }
   ],
   "source": [
    "# 📌 Step 1: Imports\n",
    "import pandas as pd\n",
    "import numpy as np\n",
    "import matplotlib.pyplot as plt\n",
    "import seaborn as sns\n",
    "import os\n",
    "\n",
    "# Ensure output folders exist\n",
    "os.makedirs('outputs/charts', exist_ok=True)\n",
    "os.makedirs('outputs/reports', exist_ok=True)\n",
    "\n",
    "# 📌 Step 2: Load Excel File\n",
    "file_path = 'data/sample_sales_data.xlsx'\n",
    "df = pd.read_excel(file_path)\n",
    "\n",
    "# 📌 Step 3: Basic Info\n",
    "print(\"Shape:\", df.shape)\n",
    "print(\"\\nData types:\\n\", df.dtypes)\n",
    "print(\"\\nMissing values:\\n\", df.isnull().sum())\n",
    "df.head()\n",
    "\n",
    "# 📌 Step 4: Summary Statistics\n",
    "summary = df.describe(include='all')\n",
    "summary.to_excel('outputs/reports/summary_stats.xlsx')\n",
    "print(\"Summary saved to outputs/reports/summary_stats.xlsx\")\n",
    "\n",
    "# 📌 Step 5: KPIs\n",
    "kpi_data = {\n",
    "    'Total Sales': df['Sales'].sum(),\n",
    "    'Average Sales': df['Sales'].mean(),\n",
    "    'Total Units Sold': df['Units Sold'].sum(),\n",
    "    'Top Region': df['Region'].mode()[0],\n",
    "    'Top Product': df['Product'].mode()[0]\n",
    "}\n",
    "kpi_df = pd.DataFrame(kpi_data.items(), columns=['Metric', 'Value'])\n",
    "kpi_df.to_excel('outputs/reports/kpis.xlsx', index=False)\n",
    "print(\"KPIs saved to outputs/reports/kpis.xlsx\")\n",
    "\n",
    "# 📌 Step 6: Charts\n",
    "\n",
    "## 1. Sales by Region\n",
    "plt.figure(figsize=(8,6))\n",
    "sns.barplot(x='Region', y='Sales', data=df, estimator=sum, ci=None)\n",
    "plt.title('Total Sales by Region')\n",
    "plt.tight_layout()\n",
    "plt.savefig('outputs/charts/sales_by_region.png')\n",
    "plt.close()\n",
    "\n",
    "## 2. Top Products by Sales\n",
    "top_products = df.groupby('Product')['Sales'].sum().sort_values(ascending=False)\n",
    "top_products.plot(kind='bar', title='Sales by Product', figsize=(8,6))\n",
    "plt.tight_layout()\n",
    "plt.savefig('outputs/charts/sales_by_product.png')\n",
    "plt.close()\n",
    "\n",
    "## 3. Sales Trend Over Time\n",
    "df['Date'] = pd.to_datetime(df['Date'])\n",
    "daily_sales = df.groupby('Date')['Sales'].sum()\n",
    "daily_sales.plot(title='Daily Sales Trend', figsize=(10,6))\n",
    "plt.tight_layout()\n",
    "plt.savefig('outputs/charts/sales_trend.png')\n",
    "plt.close()\n",
    "\n",
    "print(\"Charts saved to outputs/charts/\")\n"
   ]
  }
 ],
 "metadata": {
  "kernelspec": {
   "display_name": "venv",
   "language": "python",
   "name": "python3"
  },
  "language_info": {
   "codemirror_mode": {
    "name": "ipython",
    "version": 3
   },
   "file_extension": ".py",
   "mimetype": "text/x-python",
   "name": "python",
   "nbconvert_exporter": "python",
   "pygments_lexer": "ipython3",
   "version": "3.10.0"
  }
 },
 "nbformat": 4,
 "nbformat_minor": 5
}
